{
 "cells": [
  {
   "cell_type": "markdown",
   "metadata": {
    "id": "wtWIh7CasA2-"
   },
   "source": [
    "## Clone GitHub reposiroty for accessing Data"
   ]
  },
  {
   "cell_type": "code",
   "execution_count": 1,
   "metadata": {
    "colab": {
     "base_uri": "https://localhost:8080/"
    },
    "id": "FluT1M9QvcvV",
    "outputId": "9feb7517-fe34-497b-ae84-255114e92946"
   },
   "outputs": [
    {
     "name": "stdout",
     "output_type": "stream",
     "text": [
      "fatal: destination path 'COVID-CT' already exists and is not an empty directory.\n"
     ]
    }
   ],
   "source": [
    "!git clone https://github.com/UCSD-AI4H/COVID-CT.git"
   ]
  },
  {
   "cell_type": "markdown",
   "metadata": {
    "id": "dSNLKcEYsLC6"
   },
   "source": [
    "## Unzip Images of COVID and NON-COVID"
   ]
  },
  {
   "cell_type": "code",
   "execution_count": 2,
   "metadata": {
    "id": "hbh1Nm2mv_cF"
   },
   "outputs": [],
   "source": [
    "## unzip archives  q - quite, n - don't overwrite\n",
    "!unzip -q -n '/content/COVID-CT/Images-processed/CT_COVID.zip'\n",
    "!unzip -q -n '/content/COVID-CT/Images-processed/CT_NonCOVID.zip'"
   ]
  },
  {
   "cell_type": "markdown",
   "metadata": {
    "id": "pHsY96DzsRHh"
   },
   "source": [
    "## Rename all the images so it will be easy to use later on\n",
    "\n",
    "### And print no. of images from both classes"
   ]
  },
  {
   "cell_type": "code",
   "execution_count": 3,
   "metadata": {
    "colab": {
     "base_uri": "https://localhost:8080/"
    },
    "id": "7gV196flwWAH",
    "outputId": "3ee67c18-ac8c-4c7d-9fcf-46523742d4c8"
   },
   "outputs": [
    {
     "name": "stdout",
     "output_type": "stream",
     "text": [
      "Covid Positive cases:  973\n",
      "Covid Negative cases:  1113\n"
     ]
    }
   ],
   "source": [
    "import os\n",
    "\n",
    "path='/content/CT_COVID/'\n",
    "\n",
    "# Iterate through folder to get images one by one\n",
    "\n",
    "for count, filename in enumerate(os.listdir(path)): \n",
    "    dst =\"covid-\" + str(count) + \".png\"\n",
    "    src =path+ filename \n",
    "    dst =path+ dst \n",
    "        \n",
    "    # rename() function will \n",
    "    # rename all the files \n",
    "    os.rename(src, dst)\n",
    "print(\"Covid Positive cases: \", count)\n",
    "\n",
    "path='/content/CT_NonCOVID/'\n",
    "\n",
    "# Iterate through folder to get images one by one\n",
    "\n",
    "for count, filename in enumerate(os.listdir(path)): \n",
    "    dst =\"noncovid-\" + str(count) + \".png\"\n",
    "    src =path+ filename \n",
    "    dst =path+ dst \n",
    "        \n",
    "    # rename() function will \n",
    "    # rename all the files \n",
    "    os.rename(src, dst)\n",
    "\n",
    "print(\"Covid Negative cases: \", count)"
   ]
  },
  {
   "cell_type": "markdown",
   "metadata": {
    "id": "_5a4ZWqWsmCs"
   },
   "source": [
    "## Create base directory"
   ]
  },
  {
   "cell_type": "code",
   "execution_count": 4,
   "metadata": {
    "id": "U4L_jE7owi9i"
   },
   "outputs": [],
   "source": [
    "base_dir = '/content/covid19_CT'\n",
    "if not os.path.exists(base_dir): os.mkdir(base_dir)"
   ]
  },
  {
   "cell_type": "markdown",
   "metadata": {
    "id": "7kWN3V6Xsopd"
   },
   "source": [
    "## Create train, test, and validation directory to save images in respective directory"
   ]
  },
  {
   "cell_type": "code",
   "execution_count": 5,
   "metadata": {
    "id": "IdoerskvwoKg"
   },
   "outputs": [],
   "source": [
    "train_dir = os.path.join(base_dir, 'train')\n",
    "if not os.path.exists(train_dir): os.mkdir(train_dir)\n",
    "\n",
    "validation_dir = os.path.join(base_dir, 'validation')\n",
    "if not os.path.exists(validation_dir):os.mkdir(validation_dir)\n",
    "\n",
    "test_dir = os.path.join(base_dir, 'test')\n",
    "if not os.path.exists(test_dir):os.mkdir(test_dir)"
   ]
  },
  {
   "cell_type": "markdown",
   "metadata": {
    "id": "dgdqfw-YsyKc"
   },
   "source": [
    "## Move appropriate no. of images to respective directory"
   ]
  },
  {
   "cell_type": "markdown",
   "metadata": {
    "id": "dpTOY4xGs7TM"
   },
   "source": [
    "### For COVID"
   ]
  },
  {
   "cell_type": "code",
   "execution_count": 6,
   "metadata": {
    "id": "BB4PRPsuwsbr"
   },
   "outputs": [],
   "source": [
    "original_dataset_dir_covid = '/content/CT_COVID/'\n",
    "original_dataset_dir_non_covid = '/content/CT_NonCOVID/'\n",
    "\n",
    "import shutil\n",
    "\n",
    "# COVID - Train\n",
    "\n",
    "fnames = ['covid-{}.png'.format(i) for i in range(250)]\n",
    "for fname in fnames:\n",
    "    src = os.path.join(original_dataset_dir_covid, fname)\n",
    "    dst = os.path.join(train_dir, fname)\n",
    "    #print(src,dst)\n",
    "    try:\n",
    "      shutil.copyfile(src, dst)\n",
    "    except:\n",
    "      pass\n",
    "\n",
    "# COVID - Validation\n",
    "    \n",
    "fnames = ['covid-{}.png'.format(i) for i in range(250, 300)]\n",
    "for fname in fnames:\n",
    "    src = os.path.join(original_dataset_dir_covid, fname)\n",
    "    dst = os.path.join(validation_dir, fname)\n",
    "    try:\n",
    "      shutil.copyfile(src, dst)\n",
    "    except:\n",
    "      pass\n",
    "\n",
    "# COVID - Test\n",
    "\n",
    "fnames = ['covid-{}.png'.format(i) for i in range(300, 348)]\n",
    "for fname in fnames:\n",
    "    src = os.path.join(original_dataset_dir_covid, fname)\n",
    "    dst = os.path.join(test_dir, fname)\n",
    "    try:\n",
    "      shutil.copyfile(src, dst)\n",
    "    except:\n",
    "      pass"
   ]
  },
  {
   "cell_type": "markdown",
   "metadata": {
    "id": "I7c16xGvtAwt"
   },
   "source": [
    "### For NON-COVID"
   ]
  },
  {
   "cell_type": "code",
   "execution_count": 7,
   "metadata": {
    "id": "Re54BmoRwvzZ"
   },
   "outputs": [],
   "source": [
    "# NON-COVID - Train\n",
    "\n",
    "fnames = ['noncovid-{}.png'.format(i) for i in range(250)]\n",
    "for fname in fnames:\n",
    "    src = os.path.join(original_dataset_dir_non_covid, fname)\n",
    "    dst = os.path.join(train_dir, fname)\n",
    "    try:\n",
    "      shutil.copyfile(src, dst)\n",
    "    except:\n",
    "      pass\n",
    "\n",
    "# NON-COVID - Validation\n",
    "\n",
    "fnames = ['noncovid-{}.png'.format(i) for i in range(250, 300)]\n",
    "for fname in fnames:\n",
    "    src = os.path.join(original_dataset_dir_non_covid, fname)\n",
    "    dst = os.path.join(validation_dir, fname)\n",
    "    try:\n",
    "      shutil.copyfile(src, dst)\n",
    "    except:\n",
    "      pass\n",
    "\n",
    "# NON-COVID - Test\n",
    "\n",
    "fnames = ['noncovid-{}.png'.format(i) for i in range(300, 348)]\n",
    "for fname in fnames:\n",
    "    src = os.path.join(original_dataset_dir_non_covid, fname)\n",
    "    dst = os.path.join(test_dir, fname)\n",
    "    try:\n",
    "      shutil.copyfile(src, dst)\n",
    "    except:\n",
    "      pass"
   ]
  },
  {
   "cell_type": "markdown",
   "metadata": {
    "id": "wLncLuistDRC"
   },
   "source": [
    "## Import libraries and Initialize few parameters"
   ]
  },
  {
   "cell_type": "code",
   "execution_count": 8,
   "metadata": {
    "id": "ioRUSh9nwyiH"
   },
   "outputs": [],
   "source": [
    "import cv2\n",
    "import numpy as np\n",
    "from random import shuffle\n",
    "\n",
    "# Pre-defined Image Size\n",
    "IMG_SIZE = 224\n",
    "\n",
    "# Learning rate\n",
    "LR = 1e-4"
   ]
  },
  {
   "cell_type": "markdown",
   "metadata": {
    "id": "YADsQHRMtJ-n"
   },
   "source": [
    "## Make a Function to Label images to respective classes (Covid : 1, Non-Covid : 0)"
   ]
  },
  {
   "cell_type": "code",
   "execution_count": 9,
   "metadata": {
    "id": "NeBE7Yidw4KN"
   },
   "outputs": [],
   "source": [
    "def label_img(img):\n",
    "    word_label = img.split('-')[0]\n",
    "    if word_label == 'covid': return 1\n",
    "    elif word_label == 'noncovid': return 0"
   ]
  },
  {
   "cell_type": "markdown",
   "metadata": {
    "id": "pzn166f1tZfe"
   },
   "source": [
    "## Make a Function to create Dataset with appropriate size for model (Here VGG16)\n",
    "\n",
    "#### Since VGG16 expect input_size =  (224,224,3) Resize images to (224,224,3)\n",
    "#### Then Normalize Image and append to respective array\n"
   ]
  },
  {
   "cell_type": "code",
   "execution_count": 10,
   "metadata": {
    "id": "bk_1wMl5xLUa"
   },
   "outputs": [],
   "source": [
    "def createDataSplitSet(datapath):\n",
    "    X=[] # to save image pixels values\n",
    "    y=[] # to save labels\n",
    "\n",
    "    for img in os.listdir(datapath):\n",
    "        label = label_img(img)\n",
    "        path = os.path.join(datapath, img)\n",
    "        image = cv2.resize(cv2.imread(path), (IMG_SIZE, IMG_SIZE))\n",
    "        image = cv2.normalize(image, None, alpha=0, beta=1, norm_type=cv2.NORM_MINMAX, dtype=cv2.CV_32F)\n",
    "\n",
    "        X.append(np.array(image))\n",
    "        y.append(label)\n",
    "\n",
    "    return np.array(X), np.array(y)"
   ]
  },
  {
   "cell_type": "markdown",
   "metadata": {
    "id": "GoOvU8Qkt0af"
   },
   "source": [
    "### Make train, test, and validation dataset"
   ]
  },
  {
   "cell_type": "code",
   "execution_count": 11,
   "metadata": {
    "colab": {
     "base_uri": "https://localhost:8080/"
    },
    "id": "BJD_MJhRxOQX",
    "outputId": "7970b19c-909a-4734-ff4f-f7a76b7d58a7"
   },
   "outputs": [
    {
     "name": "stdout",
     "output_type": "stream",
     "text": [
      "(500, 224, 224, 3)\n",
      "(100, 224, 224, 3)\n",
      "(96, 224, 224, 3)\n"
     ]
    }
   ],
   "source": [
    "train_X, train_y = createDataSplitSet(train_dir)\n",
    "val_X, val_y = createDataSplitSet(validation_dir)\n",
    "test_X, test_y = createDataSplitSet(test_dir)\n",
    "\n",
    "print(train_X.shape)\n",
    "print(val_X.shape)\n",
    "print(test_X.shape)"
   ]
  },
  {
   "cell_type": "markdown",
   "metadata": {},
   "source": [
    "## VGG16 :\n",
    "\n",
    "The VGG-16 is one of the most popular pre-trained models for image classification. Introduced in the famous ILSVRC 2014 Conference, it was and remains THE model to beat even today. Developed at the Visual Graphics Group at the University of Oxford, VGG-16 beat the then standard of AlexNet and was quickly adopted by researchers and the industry for their image Classification Tasks.\n",
    "\n",
    "The following are the layers of the model:\n",
    "\n",
    "Convolutional Layers = 13\n",
    "Pooling Layers = 5\n",
    "Dense Layers = 3\n",
    "\n",
    "Let us explore the layers in detail:\n",
    "\n",
    "1. Input: Image of dimensions (224, 224, 3).\n",
    "2. Convolution Layer Conv1:\n",
    "    - Conv1-1: 64 filters\n",
    "    - Conv1-2: 64 filters and Max Pooling\n",
    "    - Image dimensions: (224, 224)\n",
    "3. Convolution layer Conv2: Now, we increase the filters to 128\n",
    "    - Input Image dimensions: (112,112)\n",
    "    - Conv2-1: 128 filters\n",
    "    - Conv2-2: 128 filters and Max Pooling\n",
    "4. Convolution Layer Conv3: Again, double the filters to 256, and now add another convolution layer\n",
    "    - Input Image dimensions: (56,56)\n",
    "    - Conv3-1: 256 filters\n",
    "    - Conv3-2: 256 filters\n",
    "    - Conv3-3: 256 filters and Max Pooling\n",
    "5. Convolution Layer Conv4: Similar to Conv3, but now with 512 filters\n",
    "    - Input Image dimensions: (28, 28)\n",
    "    - Conv4-1: 512 filters\n",
    "    - Conv4-2: 512 filters\n",
    "    - Conv4-3: 512 filters and Max Pooling\n",
    "6. Convolution Layer Conv5: Same as Conv4\n",
    "    - Input Image dimensions: (14, 14)\n",
    "    - Conv5-1: 512 filters\n",
    "    - Conv5-2: 512 filters\n",
    "    - Conv5-3: 512 filters and Max Pooling\n",
    "    - The output dimensions here are (7, 7). At this point, we flatten the output of this layer to generate a feature vector\n",
    "7. Fully Connected/Dense FC1: 4096 nodes, generating a feature vector of size(1, 4096)\n",
    "8. Fully ConnectedDense FC2: 4096 nodes generating a feature vector of size(1, 4096)\n",
    "9. Fully Connected /Dense FC3: 4096 nodes, generating 1000 channels for 1000 classes. This is then passed on to a Softmax activation function\n",
    "10. Output layer"
   ]
  },
  {
   "cell_type": "markdown",
   "metadata": {},
   "source": [
    "<img src=\"vgg16.png\">"
   ]
  },
  {
   "cell_type": "markdown",
   "metadata": {
    "id": "wYQXTHKMt4VN"
   },
   "source": [
    "## Import libraries and Initialize Model with target size"
   ]
  },
  {
   "cell_type": "code",
   "execution_count": 12,
   "metadata": {
    "id": "653O6e9qxgAW"
   },
   "outputs": [],
   "source": [
    "## VGG 16\n",
    "\n",
    "from tensorflow.keras.applications import VGG16\n",
    "from tensorflow.keras.layers import Dense, Input, Flatten\n",
    "from tensorflow.keras import Model\n",
    "\n",
    "# Input shape\n",
    "img_input = Input(shape=(IMG_SIZE, IMG_SIZE, 3))"
   ]
  },
  {
   "cell_type": "markdown",
   "metadata": {
    "id": "KynBiOP5uBEM"
   },
   "source": [
    "### We can use two ways for transfer learning :\n",
    "#### 1) Fine Tuning\n",
    "#### 2) Feature Extraction\n",
    "\n",
    "As we have already trained models available we will start with Fine Tuning since it will perform more better."
   ]
  },
  {
   "cell_type": "markdown",
   "metadata": {
    "id": "LTMuV90SunRj"
   },
   "source": [
    "#### Since we are using 'Fine Tuning' Approach we set 'include_top'=True, otherwise we have to set it to False\n",
    "\n",
    "#### We are going to initialize model by weights='imagenet'"
   ]
  },
  {
   "cell_type": "code",
   "execution_count": 13,
   "metadata": {
    "colab": {
     "base_uri": "https://localhost:8080/"
    },
    "id": "PQhDbLTCxmub",
    "outputId": "0ce9b4be-9ec2-4da6-adf7-8a12252af8ec"
   },
   "outputs": [
    {
     "name": "stdout",
     "output_type": "stream",
     "text": [
      "Model: \"vgg16\"\n",
      "_________________________________________________________________\n",
      "Layer (type)                 Output Shape              Param #   \n",
      "=================================================================\n",
      "input_1 (InputLayer)         [(None, 224, 224, 3)]     0         \n",
      "_________________________________________________________________\n",
      "block1_conv1 (Conv2D)        (None, 224, 224, 64)      1792      \n",
      "_________________________________________________________________\n",
      "block1_conv2 (Conv2D)        (None, 224, 224, 64)      36928     \n",
      "_________________________________________________________________\n",
      "block1_pool (MaxPooling2D)   (None, 112, 112, 64)      0         \n",
      "_________________________________________________________________\n",
      "block2_conv1 (Conv2D)        (None, 112, 112, 128)     73856     \n",
      "_________________________________________________________________\n",
      "block2_conv2 (Conv2D)        (None, 112, 112, 128)     147584    \n",
      "_________________________________________________________________\n",
      "block2_pool (MaxPooling2D)   (None, 56, 56, 128)       0         \n",
      "_________________________________________________________________\n",
      "block3_conv1 (Conv2D)        (None, 56, 56, 256)       295168    \n",
      "_________________________________________________________________\n",
      "block3_conv2 (Conv2D)        (None, 56, 56, 256)       590080    \n",
      "_________________________________________________________________\n",
      "block3_conv3 (Conv2D)        (None, 56, 56, 256)       590080    \n",
      "_________________________________________________________________\n",
      "block3_pool (MaxPooling2D)   (None, 28, 28, 256)       0         \n",
      "_________________________________________________________________\n",
      "block4_conv1 (Conv2D)        (None, 28, 28, 512)       1180160   \n",
      "_________________________________________________________________\n",
      "block4_conv2 (Conv2D)        (None, 28, 28, 512)       2359808   \n",
      "_________________________________________________________________\n",
      "block4_conv3 (Conv2D)        (None, 28, 28, 512)       2359808   \n",
      "_________________________________________________________________\n",
      "block4_pool (MaxPooling2D)   (None, 14, 14, 512)       0         \n",
      "_________________________________________________________________\n",
      "block5_conv1 (Conv2D)        (None, 14, 14, 512)       2359808   \n",
      "_________________________________________________________________\n",
      "block5_conv2 (Conv2D)        (None, 14, 14, 512)       2359808   \n",
      "_________________________________________________________________\n",
      "block5_conv3 (Conv2D)        (None, 14, 14, 512)       2359808   \n",
      "_________________________________________________________________\n",
      "block5_pool (MaxPooling2D)   (None, 7, 7, 512)         0         \n",
      "_________________________________________________________________\n",
      "flatten (Flatten)            (None, 25088)             0         \n",
      "_________________________________________________________________\n",
      "fc1 (Dense)                  (None, 4096)              102764544 \n",
      "_________________________________________________________________\n",
      "fc2 (Dense)                  (None, 4096)              16781312  \n",
      "_________________________________________________________________\n",
      "predictions (Dense)          (None, 1000)              4097000   \n",
      "=================================================================\n",
      "Total params: 138,357,544\n",
      "Trainable params: 138,357,544\n",
      "Non-trainable params: 0\n",
      "_________________________________________________________________\n"
     ]
    }
   ],
   "source": [
    "# Initialize model with appropriate parameters\n",
    "model = VGG16(\n",
    "    include_top=True,   # initialize with all layers\n",
    "    weights=\"imagenet\", # pre-trained weights of 'imagenet'\n",
    "    input_tensor=img_input  # input shape\n",
    ")\n",
    "\n",
    "# Print Summary Of the Model\n",
    "model.summary()"
   ]
  },
  {
   "cell_type": "markdown",
   "metadata": {
    "id": "k4SojTxqu7Ee"
   },
   "source": [
    "### To Fine Tune the model we are extending the model layers according to our needs"
   ]
  },
  {
   "cell_type": "code",
   "execution_count": 25,
   "metadata": {
    "colab": {
     "base_uri": "https://localhost:8080/"
    },
    "id": "dUdBz5t_yLJj",
    "outputId": "b477b5fa-e138-4849-9144-356149b32b26"
   },
   "outputs": [
    {
     "name": "stdout",
     "output_type": "stream",
     "text": [
      "Model: \"model_1\"\n",
      "_________________________________________________________________\n",
      "Layer (type)                 Output Shape              Param #   \n",
      "=================================================================\n",
      "input_1 (InputLayer)         [(None, 224, 224, 3)]     0         \n",
      "_________________________________________________________________\n",
      "block1_conv1 (Conv2D)        (None, 224, 224, 64)      1792      \n",
      "_________________________________________________________________\n",
      "block1_conv2 (Conv2D)        (None, 224, 224, 64)      36928     \n",
      "_________________________________________________________________\n",
      "block1_pool (MaxPooling2D)   (None, 112, 112, 64)      0         \n",
      "_________________________________________________________________\n",
      "block2_conv1 (Conv2D)        (None, 112, 112, 128)     73856     \n",
      "_________________________________________________________________\n",
      "block2_conv2 (Conv2D)        (None, 112, 112, 128)     147584    \n",
      "_________________________________________________________________\n",
      "block2_pool (MaxPooling2D)   (None, 56, 56, 128)       0         \n",
      "_________________________________________________________________\n",
      "block3_conv1 (Conv2D)        (None, 56, 56, 256)       295168    \n",
      "_________________________________________________________________\n",
      "block3_conv2 (Conv2D)        (None, 56, 56, 256)       590080    \n",
      "_________________________________________________________________\n",
      "block3_conv3 (Conv2D)        (None, 56, 56, 256)       590080    \n",
      "_________________________________________________________________\n",
      "block3_pool (MaxPooling2D)   (None, 28, 28, 256)       0         \n",
      "_________________________________________________________________\n",
      "block4_conv1 (Conv2D)        (None, 28, 28, 512)       1180160   \n",
      "_________________________________________________________________\n",
      "block4_conv2 (Conv2D)        (None, 28, 28, 512)       2359808   \n",
      "_________________________________________________________________\n",
      "block4_conv3 (Conv2D)        (None, 28, 28, 512)       2359808   \n",
      "_________________________________________________________________\n",
      "block4_pool (MaxPooling2D)   (None, 14, 14, 512)       0         \n",
      "_________________________________________________________________\n",
      "block5_conv1 (Conv2D)        (None, 14, 14, 512)       2359808   \n",
      "_________________________________________________________________\n",
      "block5_conv2 (Conv2D)        (None, 14, 14, 512)       2359808   \n",
      "_________________________________________________________________\n",
      "block5_conv3 (Conv2D)        (None, 14, 14, 512)       2359808   \n",
      "_________________________________________________________________\n",
      "block5_pool (MaxPooling2D)   (None, 7, 7, 512)         0         \n",
      "_________________________________________________________________\n",
      "flatten (Flatten)            (None, 25088)             0         \n",
      "_________________________________________________________________\n",
      "fc1 (Dense)                  (None, 512)               12845568  \n",
      "_________________________________________________________________\n",
      "dropout_1 (Dropout)          (None, 512)               0         \n",
      "_________________________________________________________________\n",
      "output (Dense)               (None, 1)                 513       \n",
      "=================================================================\n",
      "Total params: 27,560,769\n",
      "Trainable params: 12,846,081\n",
      "Non-trainable params: 14,714,688\n",
      "_________________________________________________________________\n"
     ]
    }
   ],
   "source": [
    "from tensorflow.keras.layers import Dropout\n",
    "\n",
    "# we want to join our custom layers at the end of the model\n",
    "# so fetch output of the pre-trained model's last pooling layer\n",
    "\n",
    "last_layer = model.get_layer('block5_pool').output\n",
    "x= Flatten(name='flatten')(last_layer)\n",
    "x = Dense(512, activation='relu', name='fc1')(x)\n",
    "\n",
    "# add dropout to deal with overfitting\n",
    "\n",
    "x = Dropout(0.2)(x)\n",
    "\n",
    "# Since it's binary classification project we weill use 'sigmoid' activation\n",
    "out = Dense(1, activation='sigmoid', name='output')(x)  ## 2 classes\n",
    "\n",
    "# build model with parameteres defined before\n",
    "model = Model(img_input, out)\n",
    "\n",
    "# we are not going to train last 3 layers since we want to replace it with our layers\n",
    "\n",
    "for layer in model.layers[:-3]:\n",
    "\tlayer.trainable = False\n",
    "\n",
    "model.summary()"
   ]
  },
  {
   "cell_type": "markdown",
   "metadata": {
    "id": "QM5PnyWVvEzx"
   },
   "source": [
    "### Compile Model\n",
    "\n",
    "#### Set Parameters :\n",
    "\n",
    "Initial Learning rate = 1e-4\n",
    "\n",
    "Epochs = 50\n",
    "\n",
    "optimizer = 'Adam' with decayed learning rate so model learn better\n",
    "\n",
    "loss = 'binary_crossentropy'"
   ]
  },
  {
   "cell_type": "code",
   "execution_count": 26,
   "metadata": {
    "id": "hudg_0k8ymjB"
   },
   "outputs": [],
   "source": [
    "from tensorflow.keras.optimizers import Adam\n",
    "\n",
    "INIT_LR = 1e-4\n",
    "EPOCHS = 50\n",
    "\n",
    "# define optimizer\n",
    "opt = Adam(learning_rate=INIT_LR, decay=INIT_LR/EPOCHS)\n",
    "\n",
    "# compile model\n",
    "model.compile(loss='binary_crossentropy',\n",
    "              optimizer=opt,\n",
    "              metrics=['acc'])"
   ]
  },
  {
   "cell_type": "markdown",
   "metadata": {
    "id": "XIQT0Z2cvgGj"
   },
   "source": [
    "### Set callbacks to avoid Overtraing( to get rid of Overfitting) and Save only best model\n",
    "\n",
    "We are going to monitor model performance by \"val_loss\"\n",
    "and if model's loss stop decreasing for '5' epochs continuous then it will stop traing. - it's called early stopping\n",
    "\n",
    "We are going to save best model only"
   ]
  },
  {
   "cell_type": "code",
   "execution_count": 27,
   "metadata": {
    "id": "elu-yuE4yqZi"
   },
   "outputs": [],
   "source": [
    "from tensorflow.keras.callbacks import EarlyStopping, ModelCheckpoint\n",
    "my_callbacks = [\n",
    "    EarlyStopping(monitor=\"val_loss\", patience=5, restore_best_weights=True),\n",
    "    ModelCheckpoint(filepath='vgg16_model.h5', save_best_only=True),\n",
    "]"
   ]
  },
  {
   "cell_type": "markdown",
   "metadata": {
    "id": "yHEgsBXdvpNS"
   },
   "source": [
    "### Start model training"
   ]
  },
  {
   "cell_type": "code",
   "execution_count": 28,
   "metadata": {
    "colab": {
     "base_uri": "https://localhost:8080/"
    },
    "id": "BCmF6hBeyvW7",
    "outputId": "900d5a50-df89-45de-99e9-941ecf7ea8bf"
   },
   "outputs": [
    {
     "name": "stdout",
     "output_type": "stream",
     "text": [
      "Epoch 1/50\n",
      "25/25 [==============================] - 8s 278ms/step - loss: 0.7488 - acc: 0.6240 - val_loss: 0.4207 - val_acc: 0.8400\n",
      "Epoch 2/50\n",
      "25/25 [==============================] - 7s 264ms/step - loss: 0.3374 - acc: 0.8620 - val_loss: 0.3187 - val_acc: 0.8800\n",
      "Epoch 3/50\n",
      "25/25 [==============================] - 6s 254ms/step - loss: 0.2062 - acc: 0.9400 - val_loss: 0.3258 - val_acc: 0.8500\n",
      "Epoch 4/50\n",
      "25/25 [==============================] - 6s 255ms/step - loss: 0.1513 - acc: 0.9620 - val_loss: 0.2565 - val_acc: 0.8800\n",
      "Epoch 5/50\n",
      "25/25 [==============================] - 7s 265ms/step - loss: 0.1030 - acc: 0.9820 - val_loss: 0.2528 - val_acc: 0.8900\n",
      "Epoch 6/50\n",
      "25/25 [==============================] - 6s 255ms/step - loss: 0.0672 - acc: 0.9980 - val_loss: 0.2412 - val_acc: 0.9100\n",
      "Epoch 7/50\n",
      "25/25 [==============================] - 7s 266ms/step - loss: 0.0547 - acc: 0.9980 - val_loss: 0.2290 - val_acc: 0.9100\n",
      "Epoch 8/50\n",
      "25/25 [==============================] - 6s 256ms/step - loss: 0.0383 - acc: 1.0000 - val_loss: 0.2316 - val_acc: 0.9100\n",
      "Epoch 9/50\n",
      "25/25 [==============================] - 7s 268ms/step - loss: 0.0334 - acc: 1.0000 - val_loss: 0.2239 - val_acc: 0.9100\n",
      "Epoch 10/50\n",
      "25/25 [==============================] - 6s 256ms/step - loss: 0.0248 - acc: 1.0000 - val_loss: 0.2275 - val_acc: 0.9200\n",
      "Epoch 11/50\n",
      "25/25 [==============================] - 7s 266ms/step - loss: 0.0207 - acc: 1.0000 - val_loss: 0.2266 - val_acc: 0.9100\n",
      "Epoch 12/50\n",
      "25/25 [==============================] - 6s 255ms/step - loss: 0.0182 - acc: 1.0000 - val_loss: 0.2205 - val_acc: 0.9200\n",
      "Epoch 13/50\n",
      "25/25 [==============================] - 6s 255ms/step - loss: 0.0140 - acc: 1.0000 - val_loss: 0.2193 - val_acc: 0.9200\n",
      "Epoch 14/50\n",
      "25/25 [==============================] - 6s 255ms/step - loss: 0.0120 - acc: 1.0000 - val_loss: 0.2244 - val_acc: 0.9200\n",
      "Epoch 15/50\n",
      "25/25 [==============================] - 7s 266ms/step - loss: 0.0115 - acc: 1.0000 - val_loss: 0.2304 - val_acc: 0.9200\n",
      "Epoch 16/50\n",
      "25/25 [==============================] - 6s 255ms/step - loss: 0.0101 - acc: 1.0000 - val_loss: 0.2222 - val_acc: 0.9100\n",
      "Epoch 17/50\n",
      "25/25 [==============================] - 6s 255ms/step - loss: 0.0085 - acc: 1.0000 - val_loss: 0.2228 - val_acc: 0.9100\n",
      "Epoch 18/50\n",
      "25/25 [==============================] - 7s 266ms/step - loss: 0.0072 - acc: 1.0000 - val_loss: 0.2259 - val_acc: 0.9200\n"
     ]
    }
   ],
   "source": [
    "history = model.fit(train_X, train_y,\n",
    "                              batch_size=20,\n",
    "                              epochs=EPOCHS, \n",
    "                              validation_data=(val_X, val_y),\n",
    "                              callbacks=my_callbacks)"
   ]
  },
  {
   "cell_type": "markdown",
   "metadata": {
    "id": "DHhg12WUvsht"
   },
   "source": [
    "### Plot Accuracy and Loss Graphs\n",
    "\n",
    "### Training Accuracy & Validation Accuracy compares to no. of epochs\n",
    "\n",
    "### Training loss & Validation loss compares to no. of epochs"
   ]
  },
  {
   "cell_type": "code",
   "execution_count": 29,
   "metadata": {
    "colab": {
     "base_uri": "https://localhost:8080/",
     "height": 545
    },
    "id": "QpwXFpfMzaSA",
    "outputId": "d9e86bba-9c98-411b-88b5-381ec86661db"
   },
   "outputs": [
    {
     "data": {
      "image/png": "[encoded data removed]",
      "text/plain": [
       "<Figure size 432x288 with 1 Axes>"
      ]
     },
     "metadata": {
      "needs_background": "light",
      "tags": []
     },
     "output_type": "display_data"
    },
    {
     "data": {
      "image/png": "[encoded data removed]",
      "text/plain": [
       "<Figure size 432x288 with 1 Axes>"
      ]
     },
     "metadata": {
      "needs_background": "light",
      "tags": []
     },
     "output_type": "display_data"
    }
   ],
   "source": [
    "import matplotlib.pyplot as plt\n",
    "\n",
    "acc = history.history['acc']\n",
    "val_acc = history.history['val_acc']\n",
    "loss = history.history['loss']\n",
    "val_loss = history.history['val_loss']\n",
    "\n",
    "epochs = range(1, len(acc) + 1)\n",
    "\n",
    "plt.plot(epochs, acc, 'bo', label='Training acc')\n",
    "plt.plot(epochs, val_acc, 'b', label='Validation acc')\n",
    "plt.title('Training and validation accuracy')\n",
    "plt.legend()\n",
    "\n",
    "plt.figure()\n",
    "\n",
    "plt.plot(epochs, loss, 'bo', label='Training loss')\n",
    "plt.plot(epochs, val_loss, 'b', label='Validation loss')\n",
    "plt.title('Training and validation loss')\n",
    "plt.legend()\n",
    "\n",
    "plt.show()"
   ]
  },
  {
   "cell_type": "markdown",
   "metadata": {
    "id": "TAAQn39swFzs"
   },
   "source": [
    "### We can see Accuracy curve going upwards \n",
    "### and Loss curve going down as epoch passes \n",
    "### which means model actually learning"
   ]
  },
  {
   "cell_type": "code",
   "execution_count": 30,
   "metadata": {
    "colab": {
     "base_uri": "https://localhost:8080/"
    },
    "id": "x7p5zN9yzewh",
    "outputId": "78948222-c1a0-4edd-9f9a-2db84cc66cb9"
   },
   "outputs": [
    {
     "name": "stdout",
     "output_type": "stream",
     "text": [
      "Train Accuracy:\t 1.0\n",
      "Val Accuracy:\t 0.9200000166893005\n",
      "Test Accuracy:\t 0.9166666666666666\n",
      "Precision:\t 0.9\n",
      "Recall:\t\t 0.9375\n",
      "F1 Score:\t 0.9183673469387755\n",
      "AUC:\t\t 0.9166666666666667\n"
     ]
    }
   ],
   "source": [
    "# Let's print all the metrics with it's score\n",
    "\n",
    "from sklearn.metrics import accuracy_score\n",
    "\n",
    "## Test Accuracy\n",
    "predictions = model.predict(test_X)\n",
    "ypred = predictions > 0.5\n",
    "test_acc = accuracy_score(test_y, ypred)\n",
    "\n",
    "from sklearn.metrics import precision_recall_fscore_support, roc_auc_score\n",
    "\n",
    "precision, recall, f1score, _ = precision_recall_fscore_support(test_y, ypred, average='binary')\n",
    "\n",
    "auc = roc_auc_score(test_y, ypred)\n",
    "\n",
    "print(\"Train Accuracy:\\t\", acc[-1])\n",
    "print(\"Val Accuracy:\\t\", val_acc[-1])\n",
    "print(\"Test Accuracy:\\t\", test_acc)\n",
    "print(\"Precision:\\t\", precision)\n",
    "print(\"Recall:\\t\\t\", recall)\n",
    "print(\"F1 Score:\\t\", f1score)\n",
    "print(\"AUC:\\t\\t\", auc)\n"
   ]
  },
  {
   "cell_type": "markdown",
   "metadata": {
    "id": "8v-tosoopp76"
   },
   "source": [
    "## Let's Compare Result with Previously trained models\n",
    "\n",
    "\n",
    "![ft.png](data:image/png;base64,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)"
   ]
  },
  {
   "cell_type": "markdown",
   "metadata": {
    "id": "GR-FhKm4pdLC"
   },
   "source": [
    "![fe.png](data:image/png;base64,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)"
   ]
  },
  {
   "cell_type": "markdown",
   "metadata": {
    "id": "sSe1lnGSp7g9"
   },
   "source": [
    "## Here's our updated result which is state of the art compared to others showed above :\n",
    "\n",
    "|  Metrics |  Performance | \n",
    "|---|---|\n",
    "|  Train Accuracy  | 1.0 |\n",
    "|  Val Accuracy    | 0.92 |\n",
    "|  Test Accuracy   | 0.92 |\n",
    "|   Precision      | 0.9 |\n",
    "|   Recall         | 0.94 |\n",
    "| F1 Score         | 0.92 |\n",
    "| AUC              | 0.92 |"
   ]
  },
  {
   "cell_type": "code",
   "execution_count": null,
   "metadata": {
    "id": "5z9J32L5pT9n"
   },
   "outputs": [],
   "source": []
  }
 ],
 "metadata": {
  "accelerator": "GPU",
  "colab": {
   "name": "FineTuning_COVID19_TransferLearning.ipynb",
   "provenance": []
  },
  "kernelspec": {
   "display_name": "Python 3",
   "language": "python",
   "name": "python3"
  },
  "language_info": {
   "codemirror_mode": {
    "name": "ipython",
    "version": 3
   },
   "file_extension": ".py",
   "mimetype": "text/x-python",
   "name": "python",
   "nbconvert_exporter": "python",
   "pygments_lexer": "ipython3",
   "version": "3.8.2"
  }
 },
 "nbformat": 4,
 "nbformat_minor": 1
}
