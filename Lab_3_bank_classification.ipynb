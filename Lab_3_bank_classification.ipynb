{
  "nbformat": 4,
  "nbformat_minor": 0,
  "metadata": {
    "kernelspec": {
      "display_name": "Python 3",
      "language": "python",
      "name": "python3"
    },
    "language_info": {
      "codemirror_mode": {
        "name": "ipython",
        "version": 3
      },
      "file_extension": ".py",
      "mimetype": "text/x-python",
      "name": "python",
      "nbconvert_exporter": "python",
      "pygments_lexer": "ipython3",
      "version": "3.8.8"
    },
    "colab": {
      "name": "Copy of bank_classification.ipynb",
      "provenance": [],
      "include_colab_link": true
    }
  },
  "cells": [
    {
      "cell_type": "markdown",
      "metadata": {
        "id": "view-in-github",
        "colab_type": "text"
      },
      "source": [
        "<a href=\"https://colab.research.google.com/github/sagargohel95/CE888-7-sp/blob/main/Lab_3_bank_classification.ipynb\" target=\"_parent\"><img src=\"https://colab.research.google.com/assets/colab-badge.svg\" alt=\"Open In Colab\"/></a>"
      ]
    },
    {
      "cell_type": "code",
      "metadata": {
        "id": "Yx8kEla93iGj"
      },
      "source": [
        "import matplotlib.pyplot as plt\n",
        "import numpy as np\n",
        "import pandas as pd\n",
        "\n",
        "from sklearn.dummy import DummyClassifier\n",
        "from sklearn.ensemble import RandomForestClassifier\n",
        "from sklearn.metrics import f1_score, plot_confusion_matrix, SCORERS\n",
        "from sklearn.model_selection import cross_val_score\n",
        "from sklearn.model_selection import GridSearchCV\n",
        "from sklearn.model_selection import train_test_split\n",
        "from sklearn.preprocessing import LabelEncoder"
      ],
      "execution_count": null,
      "outputs": []
    },
    {
      "cell_type": "code",
      "metadata": {
        "id": "MEJs7w6y3iGr"
      },
      "source": [
        "df_raw = pd.read_csv('https://github.com/albanda/CE888/raw/master/lab3/bank-additional-full.csv', delimiter = ';')\n",
        "df = df_raw.drop(['duration'], axis=1)"
      ],
      "execution_count": null,
      "outputs": []
    },
    {
      "cell_type": "code",
      "metadata": {
        "id": "KJckfSNQ3iGr",
        "outputId": "f6b78382-cde1-4290-a0a3-d8682937be25"
      },
      "source": [
        "#check for empty rows\n",
        "print(\"Number of rows before dropping NaNs: %d\" % len(df))\n",
        "df = df.dropna()\n",
        "print(\"Number of rows after dropping NaNs: %d\" % len(df))"
      ],
      "execution_count": null,
      "outputs": [
        {
          "output_type": "stream",
          "text": [
            "Number of rows before dropping NaNs: 41188\n",
            "Number of rows after dropping NaNs: 41188\n"
          ],
          "name": "stdout"
        }
      ]
    },
    {
      "cell_type": "code",
      "metadata": {
        "id": "z9We-Ubb3iGt"
      },
      "source": [
        "features = [col for col in df.columns[:-1]] # each column except the last one\n",
        "outcomes_of_interest = ['y']\n",
        "cat_features = [col for col in df.columns[1:10]] + ['poutcome']"
      ],
      "execution_count": null,
      "outputs": []
    },
    {
      "cell_type": "code",
      "metadata": {
        "id": "MNmpldN13iGt"
      },
      "source": [
        "df[outcomes_of_interest] = df[outcomes_of_interest].apply(LabelEncoder().fit_transform)"
      ],
      "execution_count": null,
      "outputs": []
    },
    {
      "cell_type": "code",
      "metadata": {
        "id": "mw2ObM893iGt"
      },
      "source": [
        "X_df = df[features].copy()\n",
        "y_df = df[outcomes_of_interest].copy()\n",
        "X_df = pd.get_dummies(X_df, columns=cat_features)"
      ],
      "execution_count": null,
      "outputs": []
    },
    {
      "cell_type": "code",
      "metadata": {
        "id": "zVsRXGdj3iGu",
        "outputId": "92e3ce4a-6fbc-4673-c2b2-475e6263d8e4"
      },
      "source": [
        "X = X_df.values\n",
        "y = y_df.values.T[0]\n",
        "\n",
        "y_df.value_counts().plot(kind='bar')"
      ],
      "execution_count": null,
      "outputs": [
        {
          "output_type": "execute_result",
          "data": {
            "text/plain": [
              "<AxesSubplot:xlabel='y'>"
            ]
          },
          "metadata": {
            "tags": []
          },
          "execution_count": 7
        },
        {
          "output_type": "display_data",
          "data": {
            "image/png": "[encoded data removed]",
            "text/plain": [
              "<Figure size 432x288 with 1 Axes>"
            ]
          },
          "metadata": {
            "tags": [],
            "needs_background": "light"
          }
        }
      ]
    },
    {
      "cell_type": "code",
      "metadata": {
        "id": "6v4IfmSQ3iGu"
      },
      "source": [
        "def imbalanceratio(negative, positive):\n",
        "    return negative/positive"
      ],
      "execution_count": null,
      "outputs": []
    },
    {
      "cell_type": "code",
      "metadata": {
        "id": "eAySJcRT3iGu",
        "outputId": "77834361-c29a-41be-e43e-efbf4e2aaa55"
      },
      "source": [
        "imbalanceratio(y_df.value_counts()[1], y_df.value_counts()[0])"
      ],
      "execution_count": null,
      "outputs": [
        {
          "output_type": "execute_result",
          "data": {
            "text/plain": [
              "0.126956331399803"
            ]
          },
          "metadata": {
            "tags": []
          },
          "execution_count": 9
        }
      ]
    },
    {
      "cell_type": "code",
      "metadata": {
        "id": "5G_sI5yc3iGv",
        "outputId": "87ced2e6-388b-4dd4-a2e0-3c7a9140253f"
      },
      "source": [
        "X_train, X_test, y_train, y_test = train_test_split(X, y, test_size=0.2, random_state=50, stratify=y)\n",
        "X_train.shape, X_test.shape"
      ],
      "execution_count": null,
      "outputs": [
        {
          "output_type": "execute_result",
          "data": {
            "text/plain": [
              "((32950, 62), (8238, 62))"
            ]
          },
          "metadata": {
            "tags": []
          },
          "execution_count": 10
        }
      ]
    },
    {
      "cell_type": "code",
      "metadata": {
        "id": "k3zF9Plp3iGv",
        "outputId": "b6f47d76-7546-4cdf-b0d1-f23f490abd97"
      },
      "source": [
        "y_train.shape, y_test.shape"
      ],
      "execution_count": null,
      "outputs": [
        {
          "output_type": "execute_result",
          "data": {
            "text/plain": [
              "((32950,), (8238,))"
            ]
          },
          "metadata": {
            "tags": []
          },
          "execution_count": 11
        }
      ]
    },
    {
      "cell_type": "code",
      "metadata": {
        "id": "Ge7z3HSt3iGv",
        "outputId": "687d34cd-449f-498f-8a19-d1d7008ec2b2"
      },
      "source": [
        "dummy_clf = DummyClassifier(strategy='stratified')\n",
        "dummy_clf.fit(X_train, y_train)\n",
        "print(\"Dummy F1 Score: %.2f\" % f1_score(y_test, dummy_clf.predict(X_test)))"
      ],
      "execution_count": null,
      "outputs": [
        {
          "output_type": "stream",
          "text": [
            "Dummy F1 Score: 0.10\n"
          ],
          "name": "stdout"
        }
      ]
    },
    {
      "cell_type": "code",
      "metadata": {
        "id": "ksBGad6M3iGw",
        "outputId": "5515525b-607b-49dc-dccc-214421272211"
      },
      "source": [
        "SCORERS.keys()"
      ],
      "execution_count": null,
      "outputs": [
        {
          "output_type": "execute_result",
          "data": {
            "text/plain": [
              "dict_keys(['explained_variance', 'r2', 'max_error', 'neg_median_absolute_error', 'neg_mean_absolute_error', 'neg_mean_absolute_percentage_error', 'neg_mean_squared_error', 'neg_mean_squared_log_error', 'neg_root_mean_squared_error', 'neg_mean_poisson_deviance', 'neg_mean_gamma_deviance', 'accuracy', 'top_k_accuracy', 'roc_auc', 'roc_auc_ovr', 'roc_auc_ovo', 'roc_auc_ovr_weighted', 'roc_auc_ovo_weighted', 'balanced_accuracy', 'average_precision', 'neg_log_loss', 'neg_brier_score', 'adjusted_rand_score', 'rand_score', 'homogeneity_score', 'completeness_score', 'v_measure_score', 'mutual_info_score', 'adjusted_mutual_info_score', 'normalized_mutual_info_score', 'fowlkes_mallows_score', 'precision', 'precision_macro', 'precision_micro', 'precision_samples', 'precision_weighted', 'recall', 'recall_macro', 'recall_micro', 'recall_samples', 'recall_weighted', 'f1', 'f1_macro', 'f1_micro', 'f1_samples', 'f1_weighted', 'jaccard', 'jaccard_macro', 'jaccard_micro', 'jaccard_samples', 'jaccard_weighted'])"
            ]
          },
          "metadata": {
            "tags": []
          },
          "execution_count": 13
        }
      ]
    },
    {
      "cell_type": "code",
      "metadata": {
        "id": "LvGksueB3iGw"
      },
      "source": [
        "def cvscore(estimator, depth, state=50, folds=10):\n",
        "    cv = cross_val_score(RandomForestClassifier(n_estimators=estimator, max_depth=depth, random_state=state), X_train, y_train, cv=folds, scoring='f1')\n",
        "    print((\"F1 Score: %.2f\" % (cv.mean())))"
      ],
      "execution_count": null,
      "outputs": []
    },
    {
      "cell_type": "code",
      "metadata": {
        "id": "Sn945lAf3iGw",
        "outputId": "e873216d-af8e-4129-f579-02f6f8b4efd7"
      },
      "source": [
        "cvscore(100, 3)"
      ],
      "execution_count": null,
      "outputs": [
        {
          "output_type": "stream",
          "text": [
            "F1 Score: 0.26\n"
          ],
          "name": "stdout"
        }
      ]
    },
    {
      "cell_type": "code",
      "metadata": {
        "id": "RqUFJf263iGx",
        "outputId": "e0bdb310-653f-4abf-85c2-98f08d47e09b"
      },
      "source": [
        "# Create the parameter grid\n",
        "param_grid = {\n",
        "     'n_estimators': [50, 75],\n",
        "     'max_depth': [3, None],\n",
        "     'min_samples_split': [2, 3],\n",
        "     'min_samples_leaf': [1, 2],\n",
        "     'max_features': [3, 'auto'],\n",
        "}\n",
        "# Create a base model\n",
        "rf = RandomForestClassifier(random_state=50, class_weight='balanced')\n",
        "# Instantiate the grid search model\n",
        "grid_search = GridSearchCV(estimator=rf, param_grid=param_grid, cv=10, scoring='f1', n_jobs=-1, verbose=2)\n",
        "grid_search.fit(X_train, y_train)"
      ],
      "execution_count": null,
      "outputs": [
        {
          "output_type": "stream",
          "text": [
            "Fitting 10 folds for each of 32 candidates, totalling 320 fits\n"
          ],
          "name": "stdout"
        },
        {
          "output_type": "execute_result",
          "data": {
            "text/plain": [
              "GridSearchCV(cv=10,\n",
              "             estimator=RandomForestClassifier(class_weight='balanced',\n",
              "                                              random_state=50),\n",
              "             n_jobs=-1,\n",
              "             param_grid={'max_depth': [3, None], 'max_features': [3, 'auto'],\n",
              "                         'min_samples_leaf': [1, 2],\n",
              "                         'min_samples_split': [2, 3],\n",
              "                         'n_estimators': [50, 75]},\n",
              "             scoring='f1', verbose=2)"
            ]
          },
          "metadata": {
            "tags": []
          },
          "execution_count": 16
        }
      ]
    },
    {
      "cell_type": "code",
      "metadata": {
        "id": "XPY0gbAy3iGx",
        "outputId": "6018be5a-7ce7-4fd0-955b-2dd2042cf9bf"
      },
      "source": [
        "grid_search.best_params_"
      ],
      "execution_count": null,
      "outputs": [
        {
          "output_type": "execute_result",
          "data": {
            "text/plain": [
              "{'max_depth': None,\n",
              " 'max_features': 3,\n",
              " 'min_samples_leaf': 2,\n",
              " 'min_samples_split': 2,\n",
              " 'n_estimators': 75}"
            ]
          },
          "metadata": {
            "tags": []
          },
          "execution_count": 17
        }
      ]
    },
    {
      "cell_type": "code",
      "metadata": {
        "id": "5UiO5Cif3iGx"
      },
      "source": [
        "df_results = pd.DataFrame(grid_search.cv_results_)"
      ],
      "execution_count": null,
      "outputs": []
    },
    {
      "cell_type": "code",
      "metadata": {
        "id": "NFqvBqJV3iGy",
        "outputId": "e4778b3c-d25b-4d11-fa31-05d9e63ad3b6"
      },
      "source": [
        "grid_search.best_score_"
      ],
      "execution_count": null,
      "outputs": [
        {
          "output_type": "execute_result",
          "data": {
            "text/plain": [
              "0.4958800337866209"
            ]
          },
          "metadata": {
            "tags": []
          },
          "execution_count": 19
        }
      ]
    },
    {
      "cell_type": "code",
      "metadata": {
        "id": "zbpYzB1W3iGy",
        "outputId": "a43b1734-9bd3-49ef-a994-e3c0243c0e0b"
      },
      "source": [
        "print(\"F1 Score: %.2f\" % f1_score(y_test, grid_search.predict(X_test)))"
      ],
      "execution_count": null,
      "outputs": [
        {
          "output_type": "stream",
          "text": [
            "F1 Score: 0.50\n"
          ],
          "name": "stdout"
        }
      ]
    },
    {
      "cell_type": "code",
      "metadata": {
        "id": "sMB859qU3iGy"
      },
      "source": [
        "def top_x_features(x):\n",
        "    for i in range(x):\n",
        "        print(X_df.columns[[sorted(importance_sorted, reverse=True)[i][1]]])"
      ],
      "execution_count": null,
      "outputs": []
    },
    {
      "cell_type": "code",
      "metadata": {
        "id": "SjxfE5Ax3iGy"
      },
      "source": [
        "def genenralizationerror(classifier):\n",
        "    y_bias = (np.nanmean(y_test) - np.nanmean(classifier.predict(X_test), axis=0)) **2\n",
        "    y_error = np.nanmean((y_test - classifier.predict(X_test)) **2, axis=0)#.mean()\n",
        "    y_var = np.nanvar(classifier.predict(X_test), axis=0, ddof = 1)\n",
        "    print(np.nanmean(y_bias) +  np.nanmean(y_var))\n",
        "    clf_type = \"Decision tree\"\n",
        "    print(\"{0}: {1:.4f} (error) = {2:.4f} (bias^2) \"\n",
        "              \"+ {3:.4f} (var)\".format(clf_type, np.nanmean(y_error), np.nanmean(y_bias), np.nanmean(y_var)))\n",
        "    print(\"{0}: {1:.4f} ((bias^2) + (var)) = {2:.4f} (bias^2) \"\n",
        "              \"+ {3:.4f} (var)\".format(clf_type, np.mean(y_bias) + np.mean(y_var), np.mean(y_bias), np.mean(y_var)))"
      ],
      "execution_count": null,
      "outputs": []
    },
    {
      "cell_type": "code",
      "metadata": {
        "id": "mw7ZpfL53iGz",
        "outputId": "cb9993cc-b20c-4679-89d6-0da7229ded20"
      },
      "source": [
        "importance = grid_search.best_estimator_.feature_importances_\n",
        "importance_sorted = []\n",
        "for i,v in enumerate(importance):\n",
        "    importance_sorted.append((v,i))\n",
        "# plot feature importance\n",
        "plt.bar([x for x in range(len(importance))], importance)\n",
        "plt.show()\n",
        "sorted(importance_sorted, reverse=True)"
      ],
      "execution_count": null,
      "outputs": [
        {
          "output_type": "display_data",
          "data": {
            "image/png": "[encoded data removed]",
            "text/plain": [
              "<Figure size 432x288 with 1 Axes>"
            ]
          },
          "metadata": {
            "tags": [],
            "needs_background": "light"
          }
        },
        {
          "output_type": "execute_result",
          "data": {
            "text/plain": [
              "[(0.12935660738023427, 7),\n",
              " (0.09736903913329371, 0),\n",
              " (0.08367458465625469, 8),\n",
              " (0.05596354369376038, 1),\n",
              " (0.054203470829942764, 4),\n",
              " (0.042424303483114836, 5),\n",
              " (0.04006606725235576, 6),\n",
              " (0.028754974412186815, 61),\n",
              " (0.025449807601838837, 2),\n",
              " (0.019878059523950282, 43),\n",
              " (0.016548796292443834, 42),\n",
              " (0.01626970093065214, 3),\n",
              " (0.014504607785969556, 33),\n",
              " (0.01431381488376839, 36),\n",
              " (0.013867009413885509, 50),\n",
              " (0.013804614718561562, 38),\n",
              " (0.013674160633336766, 34),\n",
              " (0.013294985486140217, 56),\n",
              " (0.013168325756097816, 54),\n",
              " (0.012844342215803614, 10),\n",
              " (0.012740424223737378, 55),\n",
              " (0.01255871079351913, 28),\n",
              " (0.012493561853211443, 31),\n",
              " (0.012489975686165352, 57),\n",
              " (0.012444601440831428, 58),\n",
              " (0.012384000889944116, 22),\n",
              " (0.01194337212204152, 23),\n",
              " (0.011698024640020345, 9),\n",
              " (0.011197226658223897, 60),\n",
              " (0.010709153506137598, 27),\n",
              " (0.009981632157703117, 39),\n",
              " (0.00944987269855821, 18),\n",
              " (0.009408928217323498, 41),\n",
              " (0.008393793422670397, 21),\n",
              " (0.008240944012789572, 16),\n",
              " (0.008170806996148522, 30),\n",
              " (0.007633244085505242, 52),\n",
              " (0.007439060516187123, 49),\n",
              " (0.007032826346671341, 25),\n",
              " (0.006939415301068856, 59),\n",
              " (0.006818421835510983, 44),\n",
              " (0.0066982908384348025, 13),\n",
              " (0.0058160872857031965, 14),\n",
              " (0.005766201101401731, 26),\n",
              " (0.005022874933339699, 45),\n",
              " (0.00498138789469263, 47),\n",
              " (0.004979681354960305, 48),\n",
              " (0.004491108637284691, 11),\n",
              " (0.004415376987936765, 15),\n",
              " (0.004409126309174574, 32),\n",
              " (0.004302618705400102, 17),\n",
              " (0.00382783054679278, 51),\n",
              " (0.00328431701841339, 19),\n",
              " (0.0031031328512757033, 12),\n",
              " (0.002838463266298869, 53),\n",
              " (0.001980363594816403, 40),\n",
              " (0.0017564181408241228, 37),\n",
              " (0.0011156826667124788, 20),\n",
              " (0.0011039293442945976, 46),\n",
              " (0.0003474845310909538, 24),\n",
              " (0.0001593852259408111, 29),\n",
              " (1.4252776506648791e-06, 35)]"
            ]
          },
          "metadata": {
            "tags": []
          },
          "execution_count": 23
        }
      ]
    },
    {
      "cell_type": "code",
      "metadata": {
        "id": "RcOLa-o53iGz",
        "outputId": "36606616-7f5a-4a53-e3e9-51cdea3a375d"
      },
      "source": [
        "top_x_features(3)"
      ],
      "execution_count": null,
      "outputs": [
        {
          "output_type": "stream",
          "text": [
            "Index(['euribor3m'], dtype='object')\n",
            "Index(['age'], dtype='object')\n",
            "Index(['nr.employed'], dtype='object')\n"
          ],
          "name": "stdout"
        }
      ]
    },
    {
      "cell_type": "code",
      "metadata": {
        "id": "cyBAwHLL3iGz",
        "outputId": "538b9d02-6b41-4af5-d863-87f13f8fd1c3"
      },
      "source": [
        "genenralizationerror(grid_search)"
      ],
      "execution_count": null,
      "outputs": [
        {
          "output_type": "stream",
          "text": [
            "0.12254337502065248\n",
            "Decision tree: 0.1277 (error) = 0.0008 (bias^2) + 0.1217 (var)\n",
            "Decision tree: 0.1225 ((bias^2) + (var)) = 0.0008 (bias^2) + 0.1217 (var)\n"
          ],
          "name": "stdout"
        }
      ]
    },
    {
      "cell_type": "code",
      "metadata": {
        "id": "fpHXX6jc3iG0",
        "outputId": "ab44eac2-502f-410b-817f-9f5047637293"
      },
      "source": [
        "plot_confusion_matrix(grid_search, X, y, cmap=plt.cm.Blues)\n",
        "plt.show()"
      ],
      "execution_count": null,
      "outputs": [
        {
          "output_type": "display_data",
          "data": {
            "image/png": "[encoded data removed]",
            "text/plain": [
              "<Figure size 432x288 with 2 Axes>"
            ]
          },
          "metadata": {
            "tags": [],
            "needs_background": "light"
          }
        }
      ]
    },
    {
      "cell_type": "markdown",
      "metadata": {
        "id": "FlVP6TMQ3iG0"
      },
      "source": [
        "## Quiz"
      ]
    },
    {
      "cell_type": "code",
      "metadata": {
        "id": "g5wDOAKE3iG0"
      },
      "source": [
        "def RFQuiz(n_estimators, max_depth, random_state):\n",
        "    RF = RandomForestClassifier(n_estimators=n_estimators, max_depth=max_depth, random_state=random_state)\n",
        "    RF.fit(X_train, y_train)\n",
        "    RF.predict(X_test)\n",
        "    print(\"F1 Score: %.2f\" % f1_score(y_test, RF.predict(X_test)))\n",
        "    return RF"
      ],
      "execution_count": null,
      "outputs": []
    },
    {
      "cell_type": "code",
      "metadata": {
        "id": "y1WmKXsH3iG0",
        "outputId": "6dc4f5ca-0da9-4feb-d9a1-1d1feec3c204"
      },
      "source": [
        "cvscore(300, 6)"
      ],
      "execution_count": null,
      "outputs": [
        {
          "output_type": "stream",
          "text": [
            "F1 Score: 0.28\n"
          ],
          "name": "stdout"
        }
      ]
    },
    {
      "cell_type": "code",
      "metadata": {
        "id": "2B0xuewo3iG1",
        "outputId": "95c29347-eadb-4f26-f6dd-1072b969392b"
      },
      "source": [
        "cvscore(250, 6)"
      ],
      "execution_count": null,
      "outputs": [
        {
          "output_type": "stream",
          "text": [
            "F1 Score: 0.28\n"
          ],
          "name": "stdout"
        }
      ]
    },
    {
      "cell_type": "code",
      "metadata": {
        "id": "7XnUNtqv3iG1",
        "outputId": "eaa2396e-4178-41de-8e60-ce22d210e84d"
      },
      "source": [
        "RFQuiz(1000, 8, 60)"
      ],
      "execution_count": null,
      "outputs": [
        {
          "output_type": "stream",
          "text": [
            "F1 Score: 0.33\n"
          ],
          "name": "stdout"
        },
        {
          "output_type": "execute_result",
          "data": {
            "text/plain": [
              "RandomForestClassifier(max_depth=8, n_estimators=1000, random_state=60)"
            ]
          },
          "metadata": {
            "tags": []
          },
          "execution_count": 30
        }
      ]
    },
    {
      "cell_type": "code",
      "metadata": {
        "id": "eWFe3OsB3iG1",
        "outputId": "9b7de214-9f98-4684-df50-6d024dfd8456"
      },
      "source": [
        "importance = RFQuiz(300, 12, 60).feature_importances_\n",
        "importance_sorted = []\n",
        "for i,v in enumerate(importance):\n",
        "    importance_sorted.append((v,i))\n",
        "# plot feature importance\n",
        "plt.bar([x for x in range(len(importance))], importance)\n",
        "plt.show()\n",
        "sorted(importance_sorted, reverse=True)"
      ],
      "execution_count": null,
      "outputs": [
        {
          "output_type": "stream",
          "text": [
            "F1 Score: 0.37\n"
          ],
          "name": "stdout"
        },
        {
          "output_type": "display_data",
          "data": {
            "image/png": "[encoded data removed]",
            "text/plain": [
              "<Figure size 432x288 with 1 Axes>"
            ]
          },
          "metadata": {
            "tags": [],
            "needs_background": "light"
          }
        },
        {
          "output_type": "execute_result",
          "data": {
            "text/plain": [
              "[(0.1377797819953523, 7),\n",
              " (0.11692728722385545, 8),\n",
              " (0.07401743620618534, 2),\n",
              " (0.06978387385403358, 61),\n",
              " (0.06136299013262599, 4),\n",
              " (0.06016619676183461, 0),\n",
              " (0.05554340279758939, 6),\n",
              " (0.04897915171607266, 5),\n",
              " (0.02630804436668193, 1),\n",
              " (0.025350875715854836, 3),\n",
              " (0.016381711117331506, 59),\n",
              " (0.014781772023583965, 60),\n",
              " (0.013437985880937723, 52),\n",
              " (0.012811341176162191, 49),\n",
              " (0.012810392740654269, 43),\n",
              " (0.01235650801647128, 50),\n",
              " (0.012290151011588797, 42),\n",
              " (0.01037130140043358, 55),\n",
              " (0.009046646865404795, 31),\n",
              " (0.008521076030657453, 38),\n",
              " (0.008431097982839883, 36),\n",
              " (0.008163850193999542, 56),\n",
              " (0.007796162028052489, 54),\n",
              " (0.007610582791731387, 23),\n",
              " (0.007522588966208642, 57),\n",
              " (0.007449667159404616, 22),\n",
              " (0.0074373927700695334, 44),\n",
              " (0.0072479004735506065, 28),\n",
              " (0.007053950652373452, 58),\n",
              " (0.006952476394268106, 9),\n",
              " (0.006846941259566019, 39),\n",
              " (0.006599864709721944, 10),\n",
              " (0.0062503262715499375, 14),\n",
              " (0.006243569755776649, 41),\n",
              " (0.006189616558043596, 18),\n",
              " (0.006004522879525173, 30),\n",
              " (0.005529218094718943, 27),\n",
              " (0.00551790536611742, 48),\n",
              " (0.005392146844134306, 17),\n",
              " (0.005188943552742863, 33),\n",
              " (0.004944510799703547, 21),\n",
              " (0.004916414187208884, 34),\n",
              " (0.004758769802576962, 25),\n",
              " (0.004537661212513118, 53),\n",
              " (0.00416425661436899, 16),\n",
              " (0.004157721197001202, 32),\n",
              " (0.00395607572875711, 13),\n",
              " (0.0034227093552682895, 26),\n",
              " (0.00340454122382498, 19),\n",
              " (0.0032650680856898696, 15),\n",
              " (0.0030755889519834046, 51),\n",
              " (0.0030033587683615153, 45),\n",
              " (0.003002263908945484, 47),\n",
              " (0.002564570633887686, 12),\n",
              " (0.002527762070509222, 37),\n",
              " (0.0025157326355761712, 40),\n",
              " (0.002300985892062418, 11),\n",
              " (0.002203605207297878, 20),\n",
              " (0.0017233131868596755, 46),\n",
              " (0.0008043855421621072, 24),\n",
              " (0.00029396327316484627, 29),\n",
              " (8.99845698016533e-08, 35)]"
            ]
          },
          "metadata": {
            "tags": []
          },
          "execution_count": 31
        }
      ]
    },
    {
      "cell_type": "code",
      "metadata": {
        "id": "MpZhE3n23iG1",
        "outputId": "b442c7fb-baab-4c41-b2a5-fab02c65c852"
      },
      "source": [
        "top_x_features(3)"
      ],
      "execution_count": null,
      "outputs": [
        {
          "output_type": "stream",
          "text": [
            "Index(['euribor3m'], dtype='object')\n",
            "Index(['nr.employed'], dtype='object')\n",
            "Index(['pdays'], dtype='object')\n"
          ],
          "name": "stdout"
        }
      ]
    }
  ]
}